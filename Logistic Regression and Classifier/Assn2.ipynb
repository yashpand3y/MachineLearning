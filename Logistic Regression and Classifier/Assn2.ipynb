{
 "cells": [
  {
   "cell_type": "markdown",
   "id": "52a46a0f",
   "metadata": {},
   "source": [
    "# Yash Pandey - yp342\n",
    "---\n",
    "\n",
    "\n",
    "# CS383 Assignment 2\n"
   ]
  },
  {
   "cell_type": "code",
   "execution_count": 51,
   "id": "0280fcd8",
   "metadata": {
    "scrolled": true
   },
   "outputs": [],
   "source": [
    "import math\n",
    "from sklearn import datasets\n",
    "from sklearn.linear_model import LogisticRegression\n",
    "import pandas as pd\n",
    "import random\n",
    "import numpy as np\n",
    "from matplotlib import pyplot as plt"
   ]
  },
  {
   "cell_type": "code",
   "execution_count": 52,
   "id": "dfef108b",
   "metadata": {
    "scrolled": true
   },
   "outputs": [],
   "source": [
    "pd.set_option(\"display.max_columns\", None)\n",
    "PATH_TO_SPAMBASE = \"spambase.data\"\n",
    "SEED = 0\n",
    "random.seed(SEED)\n",
    "ITERATION_CAP = pow(10, 4)\n",
    "LGR_SPAM_ITER_CAP = 15 * pow(10,2)\n",
    "PERCENT_CHANGE_CAP = pow(2, -23)\n",
    "LEARN_RATE = pow(10, -2)"
   ]
  },
  {
   "cell_type": "code",
   "execution_count": 53,
   "id": "6e47bed2",
   "metadata": {
    "scrolled": true
   },
   "outputs": [],
   "source": [
    "def get_iris_df():\n",
    "    iris = datasets.load_iris()\n",
    "    x = iris.data[:, :2]\n",
    "    y = (iris.target != 0) * 1\n",
    "    df_data = pd.DataFrame(data = x)\n",
    "    df_target = pd.DataFrame(data = y)\n",
    "    return df_data, df_target\n",
    "\n",
    "def standardize_sr(sr, avg, std):\n",
    "    sr_standardized = sr.apply(lambda x: ((x - avg) / std))\n",
    "    return sr_standardized\n",
    "\n",
    "def standardize_df(df):\n",
    "    df = df.copy()\n",
    "    for column_name in df.columns:\n",
    "        sr = df[column_name]\n",
    "        df[column_name] = standardize_sr(sr, sr.mean(), sr.std())\n",
    "    return df\n",
    "\n",
    "def generate_initial_random_theta(feature_count):\n",
    "    mat_l = []\n",
    "    for _ in range(0, feature_count + 1):\n",
    "        mat_l.append(random.uniform(-1.0, 1.0))\n",
    "    return np.matrix(mat_l).transpose()\n",
    "\n",
    "def add_bias_feature(df):\n",
    "    df = df.copy()\n",
    "    ones_l = [1 for i in range(len(df))]\n",
    "    df.insert(0, 'bias', value = ones_l)\n",
    "    return df\n",
    "\n",
    "def g_matrix_apply(x, theta):\n",
    "    matrix_product = np.dot(x, theta)\n",
    "    df = pd.DataFrame(matrix_product)\n",
    "    res = df[0].apply(lambda i: 1/(1 + (math.e ** -i)))\n",
    "    return np.matrix(res).transpose()\n",
    "\n",
    "def probability(x, theta):\n",
    "    return 1 - g_matrix_apply(x, theta)\n",
    "\n",
    "def apply_natural_log_on_mat(mat):\n",
    "    sr_mat = pd.DataFrame(mat).T[0]\n",
    "    res = sr_mat.apply(lambda i: math.log(i))\n",
    "    res = np.matrix(res)\n",
    "    return res\n",
    "\n",
    "def loss_calc(g_value, y_value):\n",
    "    if 1 - g_value == 0:\n",
    "        loss_val = -(y_value * math.log(g_value))\n",
    "    else:\n",
    "        loss_val = - ((y_value * math.log(g_value)) + ((1 - y_value) * math.log(1 - g_value)))\n",
    "    return loss_val\n",
    "\n",
    "def loss(g, y):\n",
    "    iter_cap = len(y)\n",
    "    net_loss = 0.0\n",
    "    for row_num in range(iter_cap):\n",
    "        g_v = g[row_num]\n",
    "        y_v = y[row_num]\n",
    "        calc_loss = loss_calc(g_v, y_v)\n",
    "        net_loss += float(calc_loss)\n",
    "    res = net_loss / iter_cap\n",
    "    return res\n",
    "\n",
    "def adjust_theta(theta_m, g_m, x_m, y_m):\n",
    "    a = g_m - y_m\n",
    "    b = np.dot(x_m.transpose(), a)\n",
    "    const = LEARN_RATE/len(x_m)\n",
    "    c = const * b\n",
    "    res = theta_m - c\n",
    "    return res\n",
    "\n",
    "def plot_graph(x, y):\n",
    "    lgr = LogisticRegression(penalty = 'none', solver = 'lbfgs', max_iter = 10000)\n",
    "    lgr.fit(x, y)\n",
    "\n",
    "    minimum_x, maximum_x = x[:, 0].min() - 0.5, x[:, 0].max() + 0.5\n",
    "    minimum_y, maximum_y = x[:, 1].min() - 0.5, x[:, 1].max() + 0.5\n",
    "    step_size = 0.02  # step size in the mesh\n",
    "    x_axis, y_axis = np.meshgrid(np.arange(minimum_x, maximum_x, step_size), np.arange(minimum_y, maximum_y, step_size))\n",
    "\n",
    "    # Makes a color plot\n",
    "    Z = lgr.predict(np.c_[x_axis.ravel(), y_axis.ravel()])\n",
    "    Z = Z.reshape(x_axis.shape)\n",
    "    plt.figure(1, figsize=(12, 9))\n",
    "    plt.pcolormesh(x_axis, y_axis, Z, cmap=plt.cm.YlGn)\n",
    "\n",
    "    # Plot also the training points\n",
    "    plt.scatter(x[:, 0], x[:, 1], c = y, edgecolors=\"face\", cmap=plt.cm.Pastel2)\n",
    "    plt.xlabel(\"Sepal Length\")\n",
    "    plt.ylabel(\"Sepal Width\")\n",
    "\n",
    "    plt.xlim(x_axis.min(), x_axis.max())\n",
    "    plt.ylim(y_axis.min(), y_axis.max())\n",
    "    plt.xticks(())\n",
    "    plt.yticks(())\n",
    "    plt.show()"
   ]
  },
  {
   "cell_type": "code",
   "execution_count": 54,
   "id": "204f53bb",
   "metadata": {
    "scrolled": true
   },
   "outputs": [],
   "source": [
    "df_iris_data, df_iris_target = get_iris_df()\n",
    "df_spambase = pd.read_csv(PATH_TO_SPAMBASE, header = None)"
   ]
  },
  {
   "cell_type": "markdown",
   "id": "85e0874d",
   "metadata": {},
   "source": [
    "---\n",
    "## Logistic Regression"
   ]
  },
  {
   "cell_type": "code",
   "execution_count": 55,
   "id": "02646349",
   "metadata": {
    "scrolled": true
   },
   "outputs": [
    {
     "name": "stdout",
     "output_type": "stream",
     "text": [
      "0: 0.45120639647301847\r"
     ]
    }
   ],
   "source": [
    "# Logistic Regression\n",
    "df_iris_data_std = standardize_df(df_iris_data)\n",
    "df_features = add_bias_feature(df_iris_data_std)\n",
    "x_matrix = np.matrix(df_features)\n",
    "y_matrix = np.matrix(df_iris_target)\n",
    "cur_loss = 0\n",
    "g = None\n",
    "theta_matrix = generate_initial_random_theta(len(df_iris_data_std.columns))\n",
    "for iter_count in range(0, ITERATION_CAP):\n",
    "    g = g_matrix_apply(x_matrix, theta_matrix)\n",
    "    # prob = probability(x_matrix, theta_matrix)\n",
    "    loss_value = loss(g, y_matrix)\n",
    "    if abs(loss_value - cur_loss) < PERCENT_CHANGE_CAP:\n",
    "        break\n",
    "    cur_loss = loss_value\n",
    "    theta_matrix = adjust_theta(theta_m = theta_matrix, g_m = g, x_m = x_matrix, y_m = y_matrix)\n",
    "    print(f\"{iter_count}: {loss_value}\", end='\\r')\n",
    "    break"
   ]
  },
  {
   "cell_type": "code",
   "execution_count": 56,
   "id": "50e345ce",
   "metadata": {
    "scrolled": true
   },
   "outputs": [],
   "source": [
    "df_g = pd.DataFrame(g)\n",
    "sr_g_boundary = df_g[0].copy()\n",
    "sr_g_boundary = np.where(df_g[0] >= 0.5, 1, 0).T"
   ]
  },
  {
   "cell_type": "markdown",
   "id": "05403337",
   "metadata": {},
   "source": [
    "### Plot of Original Feature and Classified Target"
   ]
  },
  {
   "cell_type": "code",
   "execution_count": 57,
   "id": "0bc71114",
   "metadata": {
    "scrolled": true
   },
   "outputs": [
    {
     "data": {
      "image/png": "[encoded data removed]",
      "text/plain": [
       "<Figure size 864x648 with 1 Axes>"
      ]
     },
     "metadata": {},
     "output_type": "display_data"
    }
   ],
   "source": [
    "plot_graph(df_iris_data.to_numpy(), sr_g_boundary)"
   ]
  },
  {
   "cell_type": "markdown",
   "id": "730d936f",
   "metadata": {},
   "source": [
    "### Plot of Original Feature and Original Target"
   ]
  },
  {
   "cell_type": "code",
   "execution_count": 58,
   "id": "0d4e92e1",
   "metadata": {
    "scrolled": true
   },
   "outputs": [
    {
     "data": {
      "image/png": "[encoded data removed]",
      "text/plain": [
       "<Figure size 864x648 with 1 Axes>"
      ]
     },
     "metadata": {},
     "output_type": "display_data"
    }
   ],
   "source": [
    "plot_graph(df_iris_data.to_numpy(), df_iris_target.to_numpy().ravel())"
   ]
  },
  {
   "cell_type": "markdown",
   "id": "9c3e59ca",
   "metadata": {},
   "source": [
    "---\n",
    "## Logistic Regression Spam Classification"
   ]
  },
  {
   "cell_type": "code",
   "execution_count": 59,
   "id": "8bad221e",
   "metadata": {
    "scrolled": true
   },
   "outputs": [],
   "source": [
    "def randomize_sr(sr):\n",
    "    sr_array = sr.array\n",
    "    random.shuffle(sr_array)\n",
    "    return pd.Series(sr_array)\n",
    "\n",
    "def get_shuffled_indices(df):\n",
    "    i = df.index.tolist()\n",
    "    random.shuffle(i)\n",
    "    return i\n",
    "\n",
    "def split_df_to_training_testing(df, fraction):\n",
    "    length = int(math.ceil(len(df) * fraction))\n",
    "    return df.iloc[:length], df.iloc[length:]\n",
    "\n",
    "def add_bias_column(df):\n",
    "    sr_bias = pd.Series([1 for i in range(len(df))])\n",
    "    df_copy = df.copy()\n",
    "    df_copy.insert(0, 'bias', sr_bias)\n",
    "    df_copy = df_copy.T.reset_index(drop = True).T\n",
    "    return df_copy\n",
    "\n",
    "def separate_data_target(df, target_col_num):\n",
    "    col_num = df.columns[target_col_num]\n",
    "    df_copy = df.copy()    \n",
    "    df_target = df_copy[col_num]\n",
    "    df_copy.drop(col_num, axis = 1, inplace = True)\n",
    "    return pd.DataFrame(df_copy), pd.DataFrame(df_target)\n",
    "\n",
    "def standardize_sr(sr, avg, std):\n",
    "    sr_standardized = sr.apply(lambda x: ((x - avg) / std))\n",
    "    return sr_standardized\n",
    "\n",
    "def standardize_train_data(df):\n",
    "    df_copy = df.copy()\n",
    "    df_std = df_copy.apply(lambda x: standardize_sr(x, x.mean(), x.std()))\n",
    "    df_std[0].fillna(1, inplace=True)\n",
    "    return pd.DataFrame(df_std)\n",
    "\n",
    "def standardize_test_data(df, df_train):\n",
    "    df_copy = df.copy()\n",
    "    df_std = df_copy.apply(lambda x: standardize_sr(x, df_train[x.name].mean(), df_train[x.name].std()))\n",
    "    df_std[0].fillna(1, inplace=True)\n",
    "    return pd.DataFrame(df_std)\n",
    "\n",
    "def calculate_target(df_x, t):\n",
    "    res_l = []\n",
    "    for _, row in df_x.iterrows():\n",
    "        res = np.matrix(row) * t\n",
    "        res_l.append(float(res))\n",
    "    return pd.DataFrame(res_l)\n",
    "\n",
    "def calculate_se(actual, target):\n",
    "    error = float(actual) - float(target)\n",
    "    sqr = error * error\n",
    "    return sqr\n",
    "\n",
    "def calculate_rmse_from_df(df_y, df_target):\n",
    "    se_sum = 0\n",
    "    for (_, y), (_, target) in zip(df_y.iterrows(), df_target.iterrows()):\n",
    "        diff = calculate_se(y, target)\n",
    "        se_sum += diff\n",
    "    mse = se_sum/len(df_y)\n",
    "    rmse = math.sqrt(mse)\n",
    "    return rmse\n",
    "\n",
    "def calculate_gradient(x_mat, y_mat, t):\n",
    "    a = np.matmul(x_mat, t)\n",
    "    b = a - y_mat\n",
    "    grad = 2 * np.matmul(x_mat.transpose(), b)\n",
    "    return grad\n",
    "\n",
    "def hit_termination_criteria(cur, old, row_count):\n",
    "    if (abs(cur - old) <= PERCENT_CHANGE_CAP) or (row_count >= LGR_SPAM_ITER_CAP):\n",
    "        # print(\"Termination Criteria Met\")\n",
    "        return True\n",
    "    else:\n",
    "        return False\n",
    "\n",
    "def error_type_classification(g, y):\n",
    "    g_prob_arr = np.where(g >= 0.5, 1.0, 0.0)\n",
    "    df_g = pd.DataFrame(g_prob_arr, columns = ['calculated'])\n",
    "    df_y = pd.DataFrame(y, columns = ['actual'])\n",
    "    df = df_g.join(df_y, how='outer')\n",
    "    true_pos = 0    # true positive\n",
    "    false_pos = 0   # false positive\n",
    "    true_neg = 0    # true negative\n",
    "    false_neg = 0   # false negative\n",
    "    for _, value_pair in df.iterrows():\n",
    "        g_v = value_pair.iloc[0]\n",
    "        y_v = value_pair.iloc[1]\n",
    "        if g_v == 1 and y_v == 1:\n",
    "            true_pos += 1\n",
    "        elif g_v == 0 and y_v == 0:\n",
    "            true_neg += 1\n",
    "        elif g_v == 1 and y_v == 0:\n",
    "            false_pos += 1\n",
    "        elif g_v == 0 and y_v == 1:\n",
    "            false_neg += 1\n",
    "    return true_pos, false_pos, true_neg, false_neg\n",
    "\n",
    "def calculate_statistics(tp, fp, tn, fn):\n",
    "    p = tp / (tp + fp)\n",
    "    r = tp / (tp + fn)\n",
    "    f = (2 * p * r) / (p + r)\n",
    "    a = (tp + tn) / (tp + tn + fp + fn)\n",
    "    return p, r, f, a"
   ]
  },
  {
   "cell_type": "code",
   "execution_count": 60,
   "id": "a71024c4",
   "metadata": {
    "scrolled": true
   },
   "outputs": [
    {
     "name": "stdout",
     "output_type": "stream",
     "text": [
      "Precision: 0.8972602739726028\n",
      "Recall: 0.8343949044585988\n",
      "F-Measure: 0.8646864686468647\n",
      "Accuracy: 0.8930202217873451\n"
     ]
    }
   ],
   "source": [
    "indices = get_shuffled_indices(df_spambase)\n",
    "df_random = df_spambase.iloc[indices].copy().reset_index(drop = True)\n",
    "df_random = add_bias_column(df_random)\n",
    "df_train, df_test = split_df_to_training_testing(df_random, 2/3)\n",
    "df_train_data, df_train_target = separate_data_target(df_train, -1)\n",
    "df_test_data, df_test_target = separate_data_target(df_test, -1)\n",
    "df_train_data_std = standardize_train_data(df_train_data)\n",
    "df_test_data_std = standardize_test_data(df_test_data, df_train_data)\n",
    "theta_matrix = generate_initial_random_theta(len(df_train_data_std.columns) - 1)\n",
    "train_data_matrix = np.matrix(df_train_data_std)\n",
    "train_target_matrix = np.matrix(df_train_target)\n",
    "test_data_matrix = np.matrix(df_test_data_std)\n",
    "test_target_matrix = np.matrix(df_test_target)\n",
    "init_target = calculate_target(df_train_data_std, theta_matrix)\n",
    "old_rmse = calculate_rmse_from_df(df_train_target, init_target)\n",
    "cur_theta = theta_matrix.copy()\n",
    "iter_count = 0\n",
    "trainrmse_l = []\n",
    "testrmse_l = []\n",
    "g_matrix = None\n",
    "cur_loss = 0\n",
    "for row_num in range(0, LGR_SPAM_ITER_CAP):\n",
    "    g_matrix = g_matrix_apply(train_data_matrix, theta_matrix)\n",
    "    loss_value = loss(g_matrix, train_target_matrix)\n",
    "    if hit_termination_criteria(cur_loss, loss_value, row_num):\n",
    "         break\n",
    "    theta_matrix = adjust_theta(theta_m = theta_matrix, g_m = g_matrix, x_m = train_data_matrix, y_m = train_target_matrix)\n",
    "    print(f\"Iter num: {row_num}\", end='\\r')\n",
    "#     break  ############################################################################################# COMMENT OUT BEFORE SUBMITTING\n",
    "final_g_matrix = g_matrix_apply(test_data_matrix, theta_matrix)\n",
    "t_pos, f_pos, t_neg, f_neg = error_type_classification(final_g_matrix, test_target_matrix)\n",
    "precision, recall, f_measure, accuracy = calculate_statistics(t_pos, f_pos, t_neg, f_neg)\n",
    "print(f\"Precision: {precision}\\nRecall: {recall}\\nF-Measure: {f_measure}\\nAccuracy: {accuracy}\")"
   ]
  },
  {
   "cell_type": "markdown",
   "id": "0dbf07e7",
   "metadata": {},
   "source": [
    "---\n",
    "## Naive Bayes Classifier"
   ]
  },
  {
   "cell_type": "code",
   "execution_count": 61,
   "id": "ad57cf60",
   "metadata": {
    "scrolled": true
   },
   "outputs": [],
   "source": [
    "def split_spam_and_not_spam(df_spam, df_target):\n",
    "    bool_spam_keys = np.logical_and(df_target, True)\n",
    "    df_spm = df_spam.loc[bool_spam_keys.values]\n",
    "    df_n_spm = df_spam.loc[np.logical_not(bool_spam_keys).values]\n",
    "    return df_spm, df_n_spm"
   ]
  },
  {
   "cell_type": "code",
   "execution_count": 62,
   "id": "4ffcf8da",
   "metadata": {
    "scrolled": true
   },
   "outputs": [],
   "source": [
    "def gaussian_normal(val, std, mean):\n",
    "    CONST = 1 / (math.sqrt(2 * math.pi) * std)\n",
    "    exponent = - (pow(val - mean, 2)/(2 * (std ** 2)))\n",
    "    a = pow(math.e, exponent)\n",
    "    prod = CONST * a\n",
    "    return prod"
   ]
  },
  {
   "cell_type": "code",
   "execution_count": 63,
   "id": "b626069b",
   "metadata": {
    "scrolled": true
   },
   "outputs": [],
   "source": [
    "def gaussian_distribution(df_s_mean_std, df_ns_mean_std, p_s, p_ns, df = df_test_data_std):\n",
    "    spam_normal_value_l = []\n",
    "    not_spam_normal_value_l = []\n",
    "    for _, sr_row in df.iterrows():\n",
    "        normal_s_val = p_s\n",
    "        normal_ns_val = p_ns\n",
    "        for col_num, data_point in sr_row.iteritems():\n",
    "            cur_s_std = df_s_mean_std[col_num]['std']\n",
    "            cur_s_mean = df_s_mean_std[col_num]['mean']\n",
    "            normal_s_val *= gaussian_normal(data_point, cur_s_std, cur_s_mean)\n",
    "            cur_ns_std = df_ns_mean_std[col_num]['std']\n",
    "            cur_ns_mean = df_ns_mean_std[col_num]['mean']\n",
    "            normal_ns_val *= gaussian_normal(data_point, cur_ns_std, cur_ns_mean)\n",
    "        spam_normal_value_l.append(normal_s_val)                  \n",
    "        not_spam_normal_value_l.append(normal_ns_val)\n",
    "    return pd.DataFrame([spam_normal_value_l, not_spam_normal_value_l], index = ['spam', 'not spam']).T\n"
   ]
  },
  {
   "cell_type": "code",
   "execution_count": 64,
   "id": "2137a9bd",
   "metadata": {
    "scrolled": true
   },
   "outputs": [],
   "source": [
    "def product_of_every_column(df):\n",
    "    prod_l = []\n",
    "    for col in df.columns:\n",
    "        tmp = df[col].product()\n",
    "        prod_l.append(tmp)\n",
    "    return prod_l"
   ]
  },
  {
   "cell_type": "code",
   "execution_count": 65,
   "id": "fea5bfbb",
   "metadata": {},
   "outputs": [],
   "source": [
    "def get_probability(df_s, df_n_s):\n",
    "    num_s = len(df_s)\n",
    "    num_n_s = len(df_n_s)\n",
    "    total_num_of_events = num_s + num_n_s\n",
    "    prob_s = num_s / total_num_of_events\n",
    "    prob_n_s = num_n_s / total_num_of_events\n",
    "    return prob_s, prob_n_s"
   ]
  },
  {
   "cell_type": "code",
   "execution_count": 66,
   "id": "1a26e5bf",
   "metadata": {
    "scrolled": true
   },
   "outputs": [],
   "source": [
    "def true_false_classification(df_predicted_actual_pair):\n",
    "    true_pos = 0    # true positive\n",
    "    false_pos = 0   # false positive\n",
    "    true_neg = 0    # true negative\n",
    "    false_neg = 0   # false negative\n",
    "    for _, value_pair in df_predicted_actual_pair.iterrows():\n",
    "        g_v = value_pair.iloc[0]\n",
    "        y_v = value_pair.iloc[1]\n",
    "        if g_v == 1 and y_v == 1:\n",
    "            true_pos += 1\n",
    "        elif g_v == 0 and y_v == 0:\n",
    "            true_neg += 1\n",
    "        elif g_v == 1 and y_v == 0:\n",
    "            false_pos += 1\n",
    "        elif g_v == 0 and y_v == 1:\n",
    "            false_neg += 1\n",
    "    return true_pos, false_pos, true_neg, false_neg    "
   ]
  },
  {
   "cell_type": "code",
   "execution_count": 67,
   "id": "a4147e34",
   "metadata": {
    "scrolled": true
   },
   "outputs": [],
   "source": [
    "indices = get_shuffled_indices(df_spambase)\n",
    "df_random = df_spambase.iloc[indices].copy().reset_index(drop = True)\n",
    "df_train, df_test = split_df_to_training_testing(df_random, 2/3)"
   ]
  },
  {
   "cell_type": "code",
   "execution_count": 68,
   "id": "cd65be4e",
   "metadata": {
    "scrolled": true
   },
   "outputs": [],
   "source": [
    "df_train_data, df_train_target = separate_data_target(df_train, -1)\n",
    "df_test_data, df_test_target = separate_data_target(df_test, -1)"
   ]
  },
  {
   "cell_type": "code",
   "execution_count": 69,
   "id": "eff1cd37",
   "metadata": {
    "scrolled": false
   },
   "outputs": [],
   "source": [
    "df_train_data_std = standardize_train_data(df_train_data)"
   ]
  },
  {
   "cell_type": "code",
   "execution_count": 70,
   "id": "3375c4b4",
   "metadata": {
    "scrolled": false
   },
   "outputs": [],
   "source": [
    "df_test_data_std = standardize_test_data(df_test_data, df_train_data)"
   ]
  },
  {
   "cell_type": "code",
   "execution_count": 71,
   "id": "952a1297",
   "metadata": {
    "scrolled": true
   },
   "outputs": [],
   "source": [
    "df_spam, df_not_spam = split_spam_and_not_spam(df_train_data_std, df_train_target)"
   ]
  },
  {
   "cell_type": "code",
   "execution_count": 72,
   "id": "3f071c5a",
   "metadata": {
    "scrolled": true
   },
   "outputs": [],
   "source": [
    "df_spam_mean_std = pd.DataFrame([df_spam.mean(axis=0), df_spam.std()], index=['mean', 'std'])\n",
    "df_not_spam_mean_std = pd.DataFrame([df_not_spam.mean(axis=0), df_not_spam.std()], index=['mean', 'std'])"
   ]
  },
  {
   "cell_type": "code",
   "execution_count": 73,
   "id": "bae7acb0",
   "metadata": {
    "scrolled": true
   },
   "outputs": [],
   "source": [
    "prob_spam, prob_not_spam = get_probability(df_spam, df_not_spam)"
   ]
  },
  {
   "cell_type": "code",
   "execution_count": 74,
   "id": "c3288b61",
   "metadata": {
    "scrolled": false
   },
   "outputs": [],
   "source": [
    "df_val = gaussian_distribution(df_spam_mean_std, df_not_spam_mean_std, prob_spam, prob_not_spam, df_test_data_std)"
   ]
  },
  {
   "cell_type": "code",
   "execution_count": 75,
   "id": "cb07e58d",
   "metadata": {},
   "outputs": [],
   "source": [
    "df_val[\"prediction\"] = np.where(df_val['spam']<df_val['not spam'], 1, 0)"
   ]
  },
  {
   "cell_type": "code",
   "execution_count": 76,
   "id": "c55b5a5a",
   "metadata": {},
   "outputs": [],
   "source": [
    "df_prediction_target_pair = pd.DataFrame([df_val[\"prediction\"], df_test_target[57].reset_index(drop=True)]).T"
   ]
  },
  {
   "cell_type": "code",
   "execution_count": 77,
   "id": "d5cf6a41",
   "metadata": {
    "scrolled": true
   },
   "outputs": [
    {
     "name": "stdout",
     "output_type": "stream",
     "text": [
      "Precision: 0.04428571428571428\n",
      "Recall: 0.050243111831442464\n",
      "F-Measure: 0.047076689445709946\n",
      "Accuracy: 0.18134377038486627\n"
     ]
    }
   ],
   "source": [
    "t_pos, f_pos, t_neg, f_neg = true_false_classification(df_prediction_target_pair)\n",
    "precision, recall, f_measure, accuracy = calculate_statistics(t_pos, f_pos, t_neg, f_neg)\n",
    "print(f\"Precision: {precision}\\nRecall: {recall}\\nF-Measure: {f_measure}\\nAccuracy: {accuracy}\")"
   ]
  },
  {
   "cell_type": "code",
   "execution_count": null,
   "id": "e2b4dedf",
   "metadata": {},
   "outputs": [],
   "source": []
  }
 ],
 "metadata": {
  "kernelspec": {
   "display_name": "Python 3 (ipykernel)",
   "language": "python",
   "name": "python3"
  },
  "language_info": {
   "codemirror_mode": {
    "name": "ipython",
    "version": 3
   },
   "file_extension": ".py",
   "mimetype": "text/x-python",
   "name": "python",
   "nbconvert_exporter": "python",
   "pygments_lexer": "ipython3",
   "version": "3.9.4"
  }
 },
 "nbformat": 4,
 "nbformat_minor": 5
}
