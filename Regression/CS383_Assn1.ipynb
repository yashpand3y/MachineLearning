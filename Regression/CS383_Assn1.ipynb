{
 "cells": [
  {
   "cell_type": "code",
   "execution_count": 1,
   "id": "73099dfe",
   "metadata": {},
   "outputs": [],
   "source": [
    "import pandas as pd\n",
    "import numpy as np\n",
    "import math\n",
    "import random\n",
    "import matplotlib.pyplot as plt"
   ]
  },
  {
   "cell_type": "code",
   "execution_count": 2,
   "id": "b8332596",
   "metadata": {},
   "outputs": [],
   "source": [
    "SEED = 0\n",
    "PATH_TO_DATA = \"../Assn1/Data/x06Simple.csv\"\n",
    "ITERATION_CAP = pow(10, 3)\n",
    "PERCENT_CHANGE_CAP = pow(2, -23)\n",
    "LEARN_RATE = pow(10, -2)\n",
    "random.seed(SEED)"
   ]
  },
  {
   "cell_type": "code",
   "execution_count": 3,
   "id": "1048cf52",
   "metadata": {},
   "outputs": [],
   "source": [
    "def randomize_sr(sr):\n",
    "    sr_array = sr.array\n",
    "    random.shuffle(sr_array)\n",
    "    return pd.Series(sr_array)"
   ]
  },
  {
   "cell_type": "code",
   "execution_count": 4,
   "id": "8a889f19",
   "metadata": {},
   "outputs": [],
   "source": [
    "def split_df_to_training_testing(df, fraction):\n",
    "    length = int(math.ceil(len(df) * fraction))\n",
    "    return df.iloc[:length], df.iloc[length:]"
   ]
  },
  {
   "cell_type": "code",
   "execution_count": 5,
   "id": "e8bd60a2",
   "metadata": {},
   "outputs": [],
   "source": [
    "def standardize_sr(sr, avg, std):\n",
    "    sr_standardized = sr.apply(lambda x: ((x - avg) / std))\n",
    "    return sr_standardized"
   ]
  },
  {
   "cell_type": "code",
   "execution_count": 6,
   "id": "6c52266b",
   "metadata": {},
   "outputs": [],
   "source": [
    "def standardize_first_two_columns_df(df, df_train=None):\n",
    "    if df_train is not None:\n",
    "        sr_first = df_train.iloc[:, 0]\n",
    "        sr_second = df_train.iloc[:, 1]\n",
    "    else:\n",
    "        sr_first = df.iloc[:, 0]\n",
    "        sr_second = df.iloc[:, 1]\n",
    "    df.iloc[:, 0] = standardize_sr(df.iloc[:, 0], sr_first.mean(), sr_first.std())\n",
    "    df.iloc[:, 1] = standardize_sr(df.iloc[:, 1], sr_second.mean(), sr_second.std())\n",
    "    return df"
   ]
  },
  {
   "cell_type": "code",
   "execution_count": 7,
   "id": "ca3f139b",
   "metadata": {},
   "outputs": [],
   "source": [
    "def create_matrix_with_ones_column(df):\n",
    "    length = len(df)\n",
    "    ones_l = [1 for _ in range(1, length + 1)]\n",
    "    matrix = np.matrix([i for i in zip(ones_l, df.iloc[:, 0].tolist(), df.iloc[:, 1].tolist())])\n",
    "    return matrix"
   ]
  },
  {
   "cell_type": "code",
   "execution_count": 8,
   "id": "856cbd48",
   "metadata": {},
   "outputs": [],
   "source": [
    "def create_feature_target_matrices(df):\n",
    "    feat = create_matrix_with_ones_column(df)\n",
    "    target = np.matrix(df.iloc[:, 2].tolist()).transpose()\n",
    "    return feat, target"
   ]
  },
  {
   "cell_type": "code",
   "execution_count": 9,
   "id": "6a21383a",
   "metadata": {},
   "outputs": [],
   "source": [
    "def calculate_theta(x_mat, y_mat):\n",
    "    a = np.matmul(x_mat.transpose(), x_mat)\n",
    "    b = np.matmul(x_mat.transpose(), y_mat)\n",
    "    return np.matmul(np.linalg.inv(a), b)"
   ]
  },
  {
   "cell_type": "code",
   "execution_count": 10,
   "id": "833a267d",
   "metadata": {},
   "outputs": [],
   "source": [
    "def get_shuffled_indices(df):\n",
    "    i = df.index.tolist()\n",
    "    random.shuffle(i)\n",
    "    return i"
   ]
  },
  {
   "cell_type": "code",
   "execution_count": 11,
   "id": "157b2494",
   "metadata": {},
   "outputs": [],
   "source": [
    "def calculate_rmse(target, calculated):\n",
    "    error = target - calculated\n",
    "    df_error = pd.DataFrame(error)\n",
    "    df_error = df_error.applymap(lambda x: x * x)\n",
    "    return float(pow(df_error.sum() / len(df_error), 1 / 2))"
   ]
  },
  {
   "cell_type": "code",
   "execution_count": 12,
   "id": "a40d6cb8",
   "metadata": {},
   "outputs": [],
   "source": [
    "def print_model_output(theta_mat):\n",
    "    theta_l = theta_mat.tolist()\n",
    "    output_str = \"y = \"\n",
    "    for each in theta_l:\n",
    "        if theta_l.index(each) == 0:\n",
    "            output_str += f\"{str(each)[1:-1]}\"\n",
    "        else:\n",
    "            output_str += f\"({str(each)[1:-1]}) . x{theta_l.index(each)}\"\n",
    "        if theta_l.index(each) != len(theta_l) - 1:\n",
    "            output_str += \" + \"\n",
    "    print(output_str)"
   ]
  },
  {
   "cell_type": "code",
   "execution_count": 13,
   "id": "1e7f0d3f",
   "metadata": {},
   "outputs": [],
   "source": [
    "def create_flat_diagonal(m):\n",
    "    return np.diagflat(m)"
   ]
  },
  {
   "cell_type": "code",
   "execution_count": 14,
   "id": "30df03ed",
   "metadata": {},
   "outputs": [],
   "source": [
    "def calculate_weighted_theta(diag_weight_mat):\n",
    "    x_transpose = training_x_matrix.transpose()\n",
    "    a = np.matmul(x_transpose, diag_weight_mat)\n",
    "    b = np.matmul(a, training_x_matrix)\n",
    "    inv = np.linalg.inv(b)\n",
    "    c = np.matmul(inv, x_transpose)\n",
    "    d = np.matmul(c, diag_weight_mat)\n",
    "    e = np.matmul(d, training_y_matrix)\n",
    "    # b = inverse * training_x_matrix.transpose() * diag * training_y_matrix\n",
    "    return e"
   ]
  },
  {
   "cell_type": "code",
   "execution_count": 15,
   "id": "d1d6409e",
   "metadata": {},
   "outputs": [],
   "source": [
    "def calculated_weighted_target(y_mat, weigh_theta):\n",
    "    res = np.matmul(y_mat, weigh_theta)\n",
    "    return res"
   ]
  },
  {
   "cell_type": "code",
   "execution_count": 16,
   "id": "86bddf86",
   "metadata": {},
   "outputs": [],
   "source": [
    "def calculate_se(actual, target):\n",
    "    error = float(actual) - float(target)\n",
    "    sqr = error * error\n",
    "    return sqr"
   ]
  },
  {
   "cell_type": "code",
   "execution_count": 17,
   "id": "33e65473",
   "metadata": {},
   "outputs": [],
   "source": [
    "def calculate_weighted_rmse(df_test, df_train, df_target_actual):\n",
    "    row_count = 0\n",
    "    sum_se = 0\n",
    "    for _, test_val in df_test.iterrows():\n",
    "        weight_mat = []\n",
    "        for _, train_val in df_train.iterrows():\n",
    "            a = pow((train_val[1] - test_val[1]), 2) + pow((train_val[2] - test_val[2]), 2)\n",
    "            w = math.exp(-a)\n",
    "            weight_mat.append(w)\n",
    "        diagonal_mat = create_flat_diagonal(weight_mat)\n",
    "        theta_mat = calculate_weighted_theta(diagonal_mat)\n",
    "        test_mat = np.matrix(test_val)\n",
    "        weighted_target = calculated_weighted_target(test_mat, theta_mat)\n",
    "        error = calculate_se(df_target_actual.iloc[row_count], weighted_target)\n",
    "        sum_se += error\n",
    "        row_count += 1\n",
    "    return sum_se"
   ]
  },
  {
   "cell_type": "code",
   "execution_count": 18,
   "id": "a64c882f",
   "metadata": {},
   "outputs": [],
   "source": [
    "def get_feature_count(df):\n",
    "    return len(df.columns)"
   ]
  },
  {
   "cell_type": "code",
   "execution_count": 19,
   "id": "75cad772",
   "metadata": {},
   "outputs": [],
   "source": [
    "def generate_initial_random_theta(feature_count):\n",
    "    mat_l = []\n",
    "    for _ in range(0, feature_count):\n",
    "        mat_l.append(random.uniform(-1.0, 1.0))\n",
    "    return np.matrix(mat_l).transpose()"
   ]
  },
  {
   "cell_type": "code",
   "execution_count": 20,
   "id": "06a2c49e",
   "metadata": {},
   "outputs": [],
   "source": [
    "def calculate_gradient(x_mat, y_mat, t):\n",
    "    a = np.matmul(x_mat, t)\n",
    "    b = a - y_mat\n",
    "    grad = 2 * np.matmul(x_mat.transpose(), b)\n",
    "    # d = np.matmul(2*LEARN_RATE/len(x_mat), c)\n",
    "    return grad"
   ]
  },
  {
   "cell_type": "code",
   "execution_count": 21,
   "id": "5a162196",
   "metadata": {},
   "outputs": [],
   "source": [
    "def calculate_target(df_x, t):\n",
    "    res_l = []\n",
    "    for _, row in df_x.iterrows():\n",
    "        res = np.matrix(row) * t\n",
    "        res_l.append(float(res))\n",
    "    return pd.DataFrame(res_l)"
   ]
  },
  {
   "cell_type": "code",
   "execution_count": 22,
   "id": "dc29d487",
   "metadata": {},
   "outputs": [],
   "source": [
    "def calculate_rmse_from_df(df_y, df_target):\n",
    "    se_sum = 0\n",
    "    for (_, y), (_, target) in zip(df_y.iterrows(), df_target.iterrows()):\n",
    "        diff = calculate_se(y, target)\n",
    "        se_sum += diff\n",
    "    mse = se_sum/len(df_y)\n",
    "    rmse = math.sqrt(mse)\n",
    "    # diff = df_y - df_target\n",
    "    # sum = diff.sum()\n",
    "    # rmse = math.sqrt(float(sum)**2/(len(df_y)-1))\n",
    "    return rmse"
   ]
  },
  {
   "cell_type": "code",
   "execution_count": 23,
   "id": "b67a059b",
   "metadata": {},
   "outputs": [],
   "source": [
    "def hit_termination_criteria(cur, old, row_count):\n",
    "    if (abs(cur - old) <= PERCENT_CHANGE_CAP) or (row_count >= ITERATION_CAP):\n",
    "        # print(\"Termination Criteria Met\")\n",
    "        return True\n",
    "    else:\n",
    "        return False"
   ]
  },
  {
   "cell_type": "code",
   "execution_count": 24,
   "id": "6b7bbee7",
   "metadata": {},
   "outputs": [],
   "source": [
    "def plot_RMSE_graph(training_rmse, testing_rmse):\n",
    "    plt.plot([i for i in range(0,iter_count + 1)], trainrmse_l, label = \"Training\")\n",
    "    plt.plot([i for i in range(0,iter_count + 1)], testrmse_l, label = \"Testing\")\n",
    "    plt.legend()\n",
    "    plt.title('Training RMSE, Testing RMSE v/s Iteration Count')\n",
    "    plt.xlabel('Iteration Count')\n",
    "    plt.ylabel('RMSE')\n",
    "    plt.show()"
   ]
  },
  {
   "cell_type": "markdown",
   "id": "156f0ec3",
   "metadata": {},
   "source": [
    "# Closed Form Linear Regression"
   ]
  },
  {
   "cell_type": "code",
   "execution_count": 25,
   "id": "0ddb0f90",
   "metadata": {},
   "outputs": [
    {
     "name": "stdout",
     "output_type": "stream",
     "text": [
      "Linear Regression\n",
      "y = 2954.0333333333333 + (1164.9010215209619) . x1 + (-286.26664639558896) . x2\n",
      "RMSE: 537.5342042992407\n",
      "\n"
     ]
    }
   ],
   "source": [
    "df_raw = pd.read_csv(PATH_TO_DATA)\n",
    "df_no_index = df_raw.drop(axis = 1, labels = 'Index')\n",
    "indices = get_shuffled_indices(df_no_index)\n",
    "df_random = df_no_index.iloc[indices].copy().reset_index(drop = True)\n",
    "df_training, df_testing = split_df_to_training_testing(df_random, 2 / 3)\n",
    "df_training_standardized = standardize_first_two_columns_df(df_training.copy())\n",
    "df_testing_standardized = standardize_first_two_columns_df(df_testing.copy(), df_training)\n",
    "training_x_matrix, training_y_matrix = create_feature_target_matrices(df_training_standardized)\n",
    "theta = calculate_theta(training_x_matrix, training_y_matrix)\n",
    "testing_x_matrix, testing_y_matrix = create_feature_target_matrices(df_testing_standardized)\n",
    "calculated_target = np.matmul(testing_x_matrix, theta)\n",
    "rmse = calculate_rmse(testing_y_matrix, calculated_target)\n",
    "print(\"Linear Regression\")\n",
    "print_model_output(theta)\n",
    "print(f\"RMSE: {rmse}\", end = '\\n\\n')"
   ]
  },
  {
   "cell_type": "markdown",
   "id": "f7fc1fb4",
   "metadata": {},
   "source": [
    "# Locally-Weighted Linear Regression"
   ]
  },
  {
   "cell_type": "code",
   "execution_count": 26,
   "id": "c016a25d",
   "metadata": {},
   "outputs": [
    {
     "name": "stdout",
     "output_type": "stream",
     "text": [
      "Locally Weighted Regression\n",
      "Weighted RMSE: 446.2254074923461\n",
      "\n"
     ]
    }
   ],
   "source": [
    "df_test_x = pd.DataFrame(testing_x_matrix)\n",
    "df_test_y = pd.DataFrame(testing_y_matrix)\n",
    "df_train_x = pd.DataFrame(training_x_matrix)\n",
    "df_train_y = pd.DataFrame(training_y_matrix)\n",
    "error_sum = calculate_weighted_rmse(df_test_x, df_train_x, df_test_y)\n",
    "weighted_rmse = math.sqrt(error_sum / len(df_test_y))\n",
    "print(\"Locally Weighted Regression\")\n",
    "print(f'Weighted RMSE: {weighted_rmse}', end='\\n\\n')"
   ]
  },
  {
   "cell_type": "markdown",
   "id": "b4379c73",
   "metadata": {},
   "source": [
    "# Gradient Descent"
   ]
  },
  {
   "cell_type": "code",
   "execution_count": 27,
   "id": "ad71e9ea",
   "metadata": {},
   "outputs": [
    {
     "name": "stdout",
     "output_type": "stream",
     "text": [
      "Gradient Descent\n",
      "y = 2954.032064236301 + (1164.8993402646013) . x1 + (-286.26532246327565) . x2\n",
      "RMSE: 537.5346641815303 after 15 iterations\n",
      "\n"
     ]
    },
    {
     "data": {
      "image/png": "[encoded data removed]",
      "text/plain": [
       "<Figure size 432x288 with 1 Axes>"
      ]
     },
     "metadata": {
      "needs_background": "light"
     },
     "output_type": "display_data"
    }
   ],
   "source": [
    "num_features = get_feature_count(df_training)\n",
    "init_theta = generate_initial_random_theta(num_features)\n",
    "init_target = calculate_target(df_train_x, init_theta)\n",
    "old_rmse = calculate_rmse_from_df(df_train_y, init_target)\n",
    "cur_theta = init_theta.copy()\n",
    "iter_count = 0\n",
    "trainrmse_l = []\n",
    "testrmse_l = []\n",
    "for row_num in range(0, ITERATION_CAP):\n",
    "    gradient = calculate_gradient(training_x_matrix, training_y_matrix, cur_theta)\n",
    "    cur_theta = cur_theta - (LEARN_RATE * gradient)\n",
    "\n",
    "    calculated_test_target = calculate_target(df_test_x, cur_theta)\n",
    "    test_rmse = calculate_rmse_from_df(df_test_y, calculated_test_target)\n",
    "\n",
    "    calculated_train_target = calculate_target(df_train_x, cur_theta)\n",
    "    cur_rmse = calculate_rmse_from_df(df_train_y, calculated_train_target)\n",
    "    \n",
    "    trainrmse_l.append(cur_rmse)\n",
    "    testrmse_l.append(test_rmse)\n",
    "    # print(f\"Training RMSE: {cur_rmse} @ {row_num}\\nTesting RMSE: {test_rmse} @ {row_num}\\n\")\n",
    "    if hit_termination_criteria(cur_rmse, old_rmse, row_num):\n",
    "        break\n",
    "    else:\n",
    "        old_rmse = cur_rmse\n",
    "        iter_count+=1\n",
    "print(\"Gradient Descent\")\n",
    "print_model_output(cur_theta)\n",
    "print(f\"RMSE: {test_rmse} after {iter_count} iterations\", end = '\\n\\n')\n",
    "plot_RMSE_graph(trainrmse_l, testrmse_l)"
   ]
  }
 ],
 "metadata": {
  "kernelspec": {
   "display_name": "Python 3 (ipykernel)",
   "language": "python",
   "name": "python3"
  },
  "language_info": {
   "codemirror_mode": {
    "name": "ipython",
    "version": 3
   },
   "file_extension": ".py",
   "mimetype": "text/x-python",
   "name": "python",
   "nbconvert_exporter": "python",
   "pygments_lexer": "ipython3",
   "version": "3.9.4"
  }
 },
 "nbformat": 4,
 "nbformat_minor": 5
}
